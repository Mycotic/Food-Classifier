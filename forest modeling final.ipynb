{
 "cells": [
  {
   "cell_type": "code",
   "execution_count": 1,
   "metadata": {},
   "outputs": [],
   "source": [
    "import pandas as pd\n",
    "import numpy as np\n",
    "import matplotlib.pyplot as plt\n",
    "from sklearn.model_selection import GridSearchCV\n",
    "DNAME = \"FoodData_Central_csv_2020-04-29/\""
   ]
  },
  {
   "cell_type": "code",
   "execution_count": 2,
   "metadata": {},
   "outputs": [],
   "source": [
    "train = pd.read_csv(DNAME+\"train_reduced.csv\").set_index(\"fdc_id\")\n",
    "y_train=train[\"is_meat\"]\n",
    "x_train=train.drop(\"is_meat\",axis=1)\n",
    "x_test = pd.read_csv(DNAME+\"x_test.csv\").set_index(\"fdc_id\")\n",
    "y_test = pd.read_csv(DNAME+\"y_test_meat_target.csv\").set_index(\"fdc_id\")"
   ]
  },
  {
   "cell_type": "code",
   "execution_count": 3,
   "metadata": {},
   "outputs": [
    {
     "data": {
      "text/plain": [
       "(34308, 183)"
      ]
     },
     "execution_count": 3,
     "metadata": {},
     "output_type": "execute_result"
    }
   ],
   "source": [
    "x_test=x_test[x_train.columns]\n",
    "x_test.shape"
   ]
  },
  {
   "cell_type": "code",
   "execution_count": 4,
   "metadata": {},
   "outputs": [],
   "source": [
    "params = {\"max_depth\":range(3,23,5),\n",
    "          \"n_estimators\":[100,300,500],\n",
    "          \"ccp_alpha\":[0,.001]\n",
    "         }"
   ]
  },
  {
   "cell_type": "code",
   "execution_count": 5,
   "metadata": {},
   "outputs": [],
   "source": [
    "from sklearn.model_selection import GridSearchCV\n",
    "from sklearn.ensemble import RandomForestClassifier\n",
    "rfc = RandomForestClassifier()\n",
    "gs = GridSearchCV(estimator=rfc, param_grid=params,scoring=\"recall\",cv=10,verbose=1,n_jobs=-1)\n",
    "\n"
   ]
  },
  {
   "cell_type": "code",
   "execution_count": null,
   "metadata": {},
   "outputs": [
    {
     "name": "stdout",
     "output_type": "stream",
     "text": [
      "Fitting 10 folds for each of 24 candidates, totalling 240 fits\n"
     ]
    },
    {
     "name": "stderr",
     "output_type": "stream",
     "text": [
      "[Parallel(n_jobs=-1)]: Using backend LokyBackend with 4 concurrent workers.\n",
      "[Parallel(n_jobs=-1)]: Done  42 tasks      | elapsed:  1.5min\n"
     ]
    }
   ],
   "source": [
    "gs.fit(x_train, y_train.values.ravel())"
   ]
  },
  {
   "cell_type": "code",
   "execution_count": null,
   "metadata": {},
   "outputs": [],
   "source": [
    "gs.best_estimator_"
   ]
  },
  {
   "cell_type": "code",
   "execution_count": null,
   "metadata": {},
   "outputs": [],
   "source": [
    "gs"
   ]
  },
  {
   "cell_type": "code",
   "execution_count": null,
   "metadata": {
    "scrolled": true
   },
   "outputs": [],
   "source": [
    "from sklearn import metrics\n",
    "gs_pred = gs.predict(x_test)\n",
    "gs_recall = metrics.recall_score(y_test, gs_pred)\n",
    "gs_recall"
   ]
  },
  {
   "cell_type": "code",
   "execution_count": null,
   "metadata": {},
   "outputs": [],
   "source": [
    "gs_f1 = metrics.f1_score(y_test, gs_pred)\n",
    "gs_acc = metrics.accuracy_score(y_test, gs_pred)\n",
    "gs_recall = metrics.recall_score(y_test, gs_pred)\n",
    "gs_prec = metrics.precision_score(y_test, gs_pred)\n",
    "\n",
    "print('f1,recall,acc,prec score: ', gs_f1,gs_acc,gs_recall,gs_prec)"
   ]
  },
  {
   "cell_type": "code",
   "execution_count": null,
   "metadata": {},
   "outputs": [],
   "source": [
    "gs_pred"
   ]
  },
  {
   "cell_type": "code",
   "execution_count": null,
   "metadata": {},
   "outputs": [],
   "source": [
    "y_test[\"prediction\"]=gs_pred\n",
    "errors = y_test[y_test[\"is_meat\"]!=y_test[\"prediction\"]]\n",
    "#errors"
   ]
  },
  {
   "cell_type": "code",
   "execution_count": null,
   "metadata": {},
   "outputs": [],
   "source": [
    "pd.set_option('display.min_rows', 10)\n",
    "full_error=pd.concat([errors,food_merge.loc[errors.index][\"description\"]],axis=1)\n",
    "full_error[full_error[\"is_meat\"]==1]"
   ]
  },
  {
   "cell_type": "code",
   "execution_count": null,
   "metadata": {},
   "outputs": [],
   "source": [
    "pd.set_option('display.min_rows', 20)\n",
    "full_error[full_error[\"is_meat\"]==0].iloc[[0,2,4,7]].reset_index()"
   ]
  },
  {
   "cell_type": "code",
   "execution_count": null,
   "metadata": {},
   "outputs": [],
   "source": [
    "# looks like the false positives are eggy foods and a couple other high protein things,\n",
    "# but the false negatives look like things that are actually negative and got mislabeled\n",
    "# when classifying the labels - like bollywood burger is a vegetarian burger, and vegan\n",
    "# bacon. There still are some real false negatives but its even less than the stats indicate"
   ]
  },
  {
   "cell_type": "code",
   "execution_count": null,
   "metadata": {},
   "outputs": [],
   "source": [
    "full_error[full_error[\"is_meat\"]==1].iloc[[0,2,3,4]].reset_index()"
   ]
  },
  {
   "cell_type": "code",
   "execution_count": null,
   "metadata": {},
   "outputs": [],
   "source": [
    "egg_index= food_merge[food_merge[\"food_category_id\"]==1].index\n",
    "egg_index"
   ]
  },
  {
   "cell_type": "code",
   "execution_count": null,
   "metadata": {},
   "outputs": [],
   "source": [
    "# egg and dairy code is 1 so we can get the index of egg and dairys using that\n",
    "egg_index = food_merge[food_merge[\"food_category_id\"]==1].index\n",
    "egg_test = [i for i in egg_index if i in x_test.index]\n",
    "gs_pred_egg = gs.predict(x_test.loc[egg_test])\n",
    "display(metrics.accuracy_score(y_test.loc[egg_test], gs_pred_egg))\n",
    "display(metrics.recall_score(y_test.loc[egg_test], gs_pred_egg))"
   ]
  },
  {
   "cell_type": "code",
   "execution_count": null,
   "metadata": {},
   "outputs": [],
   "source": [
    "# all the errors are false positives for dairy products... oh obviously \n",
    "# at least theres still pretty high accuracy for dairy"
   ]
  },
  {
   "cell_type": "code",
   "execution_count": null,
   "metadata": {},
   "outputs": [],
   "source": [
    "\"\"\"test_egg=y_test.loc[egg_test].astype(int)\n",
    "display(a.shape)\n",
    "egg_prediction=pd.DataFrame(gs_pred_egg)\n",
    "egg_prediction.index=test_egg.index\n",
    "pd.concat([a, b],axis=1)\"\"\""
   ]
  },
  {
   "cell_type": "code",
   "execution_count": null,
   "metadata": {},
   "outputs": [],
   "source": [
    "# false negatives\n",
    "false_negatives_i = full_error[full_error[\"is_meat\"]==1].index\n",
    "false_positives_i = full_error[full_error[\"is_meat\"]==0].index"
   ]
  },
  {
   "cell_type": "code",
   "execution_count": null,
   "metadata": {},
   "outputs": [],
   "source": [
    "food_merge = pd.read_csv(DNAME+\"food_merge.csv\").set_index(\"fdc_id\")"
   ]
  },
  {
   "cell_type": "code",
   "execution_count": null,
   "metadata": {},
   "outputs": [],
   "source": [
    "false_negatives = food_merge.loc[false_negatives_i]\n",
    "false_positives = food_merge.loc[false_positives_i]\n",
    "pd.set_option('display.min_rows', 15)\n",
    "pd.set_option('display.max_rows', 20)\n",
    "false_negatives"
   ]
  },
  {
   "cell_type": "code",
   "execution_count": null,
   "metadata": {},
   "outputs": [],
   "source": [
    "total_label_cnt = food_merge.loc[x_test.index].groupby(\"branded_food_category\").count()[\"data_type\"] \n",
    "total_label_cnt"
   ]
  },
  {
   "cell_type": "code",
   "execution_count": null,
   "metadata": {},
   "outputs": [],
   "source": [
    "false_neg_grp = false_negatives.groupby(\"branded_food_category\").count()\n",
    "falsen_percent = false_neg_grp.merge(total_label_cnt,left_index=True,right_index=True,how=\"left\")\n",
    "falsen_percent[\"per_fneg\"] = falsen_percent[\"data_type_x\"]/falsen_percent[\"data_type_y\"]\n",
    "falsen_percent = falsen_percent[[\"per_fneg\",\"data_type_x\",\"data_type_x\"]]\n",
    "falsen_percent.columns = [\"per_fneg\", \"fneg_cnt\", \"total_cnt\"]"
   ]
  },
  {
   "cell_type": "code",
   "execution_count": null,
   "metadata": {},
   "outputs": [],
   "source": [
    "false_pos_grp = false_positives.groupby(\"branded_food_category\").count()\n",
    "falsep_percent = false_pos_grp.merge(total_label_cnt,left_index=True,right_index=True,how=\"left\")\n",
    "falsep_percent[\"per_fpos\"] = falsep_percent[\"data_type_x\"]/falsep_percent[\"data_type_y\"]\n",
    "falsep_percent = falsep_percent[[\"per_fpos\",\"data_type_x\",\"data_type_y\"]]\n",
    "falsep_percent.columns = [\"per_fpos\", \"fpos_cnt\", \"total_cnt\"]"
   ]
  },
  {
   "cell_type": "code",
   "execution_count": null,
   "metadata": {},
   "outputs": [],
   "source": [
    "falsen_percent"
   ]
  },
  {
   "cell_type": "code",
   "execution_count": null,
   "metadata": {},
   "outputs": [],
   "source": [
    "falsep_percent"
   ]
  },
  {
   "cell_type": "code",
   "execution_count": null,
   "metadata": {},
   "outputs": [],
   "source": [
    "# ok they're all branded foods so this is easier\n",
    "plt.barh(false_neg_grp.index,falsen_percent[\"per_fneg\"])\n",
    "plt.title(\"Percent of each category that is false negative\")\n",
    "plt.xlabel(\"Percent false negative\")\n",
    "# this is cutting left edge so guess we're screenshotting :)\n",
    "plt.savefig(\"figs/\"+\"fneg_percent\")"
   ]
  },
  {
   "cell_type": "code",
   "execution_count": null,
   "metadata": {},
   "outputs": [],
   "source": [
    "# ok they're all branded foods so this is easier\n",
    "plt.barh(false_pos_grp.index,falsep_percent[\"per_fpos\"])\n",
    "plt.title(\"Percent of each category that is false positive\")\n",
    "plt.xlabel(\"Percent false positive\")\n",
    "plt.savefig(\"figs/\"+\"fpos_percent\")"
   ]
  },
  {
   "cell_type": "code",
   "execution_count": null,
   "metadata": {},
   "outputs": [],
   "source": []
  }
 ],
 "metadata": {
  "kernelspec": {
   "display_name": "Python 3",
   "language": "python",
   "name": "python3"
  },
  "language_info": {
   "codemirror_mode": {
    "name": "ipython",
    "version": 3
   },
   "file_extension": ".py",
   "mimetype": "text/x-python",
   "name": "python",
   "nbconvert_exporter": "python",
   "pygments_lexer": "ipython3",
   "version": "3.7.6"
  }
 },
 "nbformat": 4,
 "nbformat_minor": 4
}
