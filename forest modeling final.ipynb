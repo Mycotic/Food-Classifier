{
 "cells": [
  {
   "cell_type": "code",
   "execution_count": 1,
   "metadata": {},
   "outputs": [],
   "source": [
    "import pandas as pd\n",
    "import numpy as np\n",
    "import matplotlib.pyplot as plt\n",
    "from sklearn.model_selection import GridSearchCV\n",
    "DNAME = \"FoodData_Central_csv_2020-04-29/\""
   ]
  },
  {
   "cell_type": "code",
   "execution_count": 2,
   "metadata": {},
   "outputs": [],
   "source": [
    "train = pd.read_csv(DNAME+\"train_reduced.csv\").set_index(\"fdc_id\")\n",
    "y_train=train[\"is_meat\"]\n",
    "x_train=train.drop(\"is_meat\",axis=1)\n",
    "x_test = pd.read_csv(DNAME+\"x_test.csv\").set_index(\"fdc_id\")\n",
    "y_test = pd.read_csv(DNAME+\"y_test_meat_target.csv\").set_index(\"fdc_id\")"
   ]
  },
  {
   "cell_type": "code",
   "execution_count": 3,
   "metadata": {},
   "outputs": [
    {
     "data": {
      "text/plain": [
       "(34308, 183)"
      ]
     },
     "execution_count": 3,
     "metadata": {},
     "output_type": "execute_result"
    }
   ],
   "source": [
    "x_test=x_test[x_train.columns]\n",
    "x_test.shape"
   ]
  },
  {
   "cell_type": "code",
   "execution_count": 4,
   "metadata": {},
   "outputs": [],
   "source": [
    "params = {\"max_depth\":range(3,23,5),\n",
    "          \"n_estimators\":[100,300,500],\n",
    "          \"ccp_alpha\":[0,.001]\n",
    "         }"
   ]
  },
  {
   "cell_type": "code",
   "execution_count": 5,
   "metadata": {},
   "outputs": [],
   "source": [
    "from sklearn.model_selection import GridSearchCV\n",
    "from sklearn.ensemble import RandomForestClassifier\n",
    "rfc = RandomForestClassifier()\n",
    "gs = GridSearchCV(estimator=rfc, param_grid=params,scoring=\"recall\",cv=10,verbose=1,n_jobs=-1)\n",
    "\n"
   ]
  },
  {
   "cell_type": "code",
   "execution_count": 6,
   "metadata": {},
   "outputs": [
    {
     "name": "stdout",
     "output_type": "stream",
     "text": [
      "Fitting 10 folds for each of 24 candidates, totalling 240 fits\n"
     ]
    },
    {
     "name": "stderr",
     "output_type": "stream",
     "text": [
      "[Parallel(n_jobs=-1)]: Using backend LokyBackend with 4 concurrent workers.\n",
      "[Parallel(n_jobs=-1)]: Done  42 tasks      | elapsed:  1.3min\n",
      "[Parallel(n_jobs=-1)]: Done 192 tasks      | elapsed: 11.3min\n",
      "[Parallel(n_jobs=-1)]: Done 240 out of 240 | elapsed: 15.5min finished\n"
     ]
    },
    {
     "data": {
      "text/plain": [
       "GridSearchCV(cv=10, estimator=RandomForestClassifier(), n_jobs=-1,\n",
       "             param_grid={'ccp_alpha': [0, 0.001], 'max_depth': range(3, 23, 5),\n",
       "                         'n_estimators': [100, 300, 500]},\n",
       "             scoring='recall', verbose=1)"
      ]
     },
     "execution_count": 6,
     "metadata": {},
     "output_type": "execute_result"
    }
   ],
   "source": [
    "gs.fit(x_train, y_train.values.ravel())"
   ]
  },
  {
   "cell_type": "code",
   "execution_count": 7,
   "metadata": {},
   "outputs": [
    {
     "data": {
      "text/plain": [
       "RandomForestClassifier(ccp_alpha=0, max_depth=18, n_estimators=500)"
      ]
     },
     "execution_count": 7,
     "metadata": {},
     "output_type": "execute_result"
    }
   ],
   "source": [
    "gs.best_estimator_"
   ]
  },
  {
   "cell_type": "code",
   "execution_count": 8,
   "metadata": {},
   "outputs": [
    {
     "data": {
      "text/plain": [
       "GridSearchCV(cv=10, estimator=RandomForestClassifier(), n_jobs=-1,\n",
       "             param_grid={'ccp_alpha': [0, 0.001], 'max_depth': range(3, 23, 5),\n",
       "                         'n_estimators': [100, 300, 500]},\n",
       "             scoring='recall', verbose=1)"
      ]
     },
     "execution_count": 8,
     "metadata": {},
     "output_type": "execute_result"
    }
   ],
   "source": [
    "gs"
   ]
  },
  {
   "cell_type": "code",
   "execution_count": 9,
   "metadata": {
    "scrolled": true
   },
   "outputs": [
    {
     "data": {
      "text/plain": [
       "0.9845256784032295"
      ]
     },
     "execution_count": 9,
     "metadata": {},
     "output_type": "execute_result"
    }
   ],
   "source": [
    "from sklearn import metrics\n",
    "gs_pred = gs.predict(x_test)\n",
    "gs_recall = metrics.recall_score(y_test, gs_pred)\n",
    "gs_recall"
   ]
  },
  {
   "cell_type": "code",
   "execution_count": 10,
   "metadata": {},
   "outputs": [
    {
     "name": "stdout",
     "output_type": "stream",
     "text": [
      "f1,recall,acc,prec score:  0.7794744318181819 0.9275970619097587 0.9845256784032295 0.6451138868479059\n"
     ]
    }
   ],
   "source": [
    "gs_f1 = metrics.f1_score(y_test, gs_pred)\n",
    "gs_acc = metrics.accuracy_score(y_test, gs_pred)\n",
    "gs_recall = metrics.recall_score(y_test, gs_pred)\n",
    "gs_prec = metrics.precision_score(y_test, gs_pred)\n",
    "\n",
    "print('f1,recall,acc,prec score: ', gs_f1,gs_acc,gs_recall,gs_prec)"
   ]
  },
  {
   "cell_type": "code",
   "execution_count": 11,
   "metadata": {},
   "outputs": [
    {
     "data": {
      "text/plain": [
       "array([0, 0, 0, ..., 0, 0, 1])"
      ]
     },
     "execution_count": 11,
     "metadata": {},
     "output_type": "execute_result"
    }
   ],
   "source": [
    "gs_pred"
   ]
  },
  {
   "cell_type": "code",
   "execution_count": 12,
   "metadata": {},
   "outputs": [],
   "source": [
    "y_test[\"prediction\"]=gs_pred\n",
    "errors = y_test[y_test[\"is_meat\"]!=y_test[\"prediction\"]]\n",
    "#errors"
   ]
  },
  {
   "cell_type": "code",
   "execution_count": 14,
   "metadata": {},
   "outputs": [
    {
     "data": {
      "text/html": [
       "<div>\n",
       "<style scoped>\n",
       "    .dataframe tbody tr th:only-of-type {\n",
       "        vertical-align: middle;\n",
       "    }\n",
       "\n",
       "    .dataframe tbody tr th {\n",
       "        vertical-align: top;\n",
       "    }\n",
       "\n",
       "    .dataframe thead th {\n",
       "        text-align: right;\n",
       "    }\n",
       "</style>\n",
       "<table border=\"1\" class=\"dataframe\">\n",
       "  <thead>\n",
       "    <tr style=\"text-align: right;\">\n",
       "      <th></th>\n",
       "      <th>is_meat</th>\n",
       "      <th>prediction</th>\n",
       "      <th>description</th>\n",
       "    </tr>\n",
       "    <tr>\n",
       "      <th>fdc_id</th>\n",
       "      <th></th>\n",
       "      <th></th>\n",
       "      <th></th>\n",
       "    </tr>\n",
       "  </thead>\n",
       "  <tbody>\n",
       "    <tr>\n",
       "      <th>516858</th>\n",
       "      <td>1</td>\n",
       "      <td>0</td>\n",
       "      <td>THAI CURRY</td>\n",
       "    </tr>\n",
       "    <tr>\n",
       "      <th>507762</th>\n",
       "      <td>1</td>\n",
       "      <td>0</td>\n",
       "      <td>ORGANIC VEGETARIAN CHILI</td>\n",
       "    </tr>\n",
       "    <tr>\n",
       "      <th>333411</th>\n",
       "      <td>1</td>\n",
       "      <td>0</td>\n",
       "      <td>Proximates, Pollock, raw (IN) - NFY060DN7</td>\n",
       "    </tr>\n",
       "    <tr>\n",
       "      <th>805661</th>\n",
       "      <td>1</td>\n",
       "      <td>0</td>\n",
       "      <td>CRAWFISH SHRIMP &amp; CRAB BOIL</td>\n",
       "    </tr>\n",
       "    <tr>\n",
       "      <th>389247</th>\n",
       "      <td>1</td>\n",
       "      <td>0</td>\n",
       "      <td>VEGETARIAN CHILI 3 BEAN CHIPOTLE</td>\n",
       "    </tr>\n",
       "    <tr>\n",
       "      <th>...</th>\n",
       "      <td>...</td>\n",
       "      <td>...</td>\n",
       "      <td>...</td>\n",
       "    </tr>\n",
       "    <tr>\n",
       "      <th>742802</th>\n",
       "      <td>1</td>\n",
       "      <td>0</td>\n",
       "      <td>ORIGINALS PANINO GENOA SALAMI WRAPPED MOZZAREL...</td>\n",
       "    </tr>\n",
       "    <tr>\n",
       "      <th>593903</th>\n",
       "      <td>1</td>\n",
       "      <td>0</td>\n",
       "      <td>SCREAMIN' JALAPENO BEEF &amp; CHEESE MEAT SNACKS</td>\n",
       "    </tr>\n",
       "    <tr>\n",
       "      <th>534830</th>\n",
       "      <td>1</td>\n",
       "      <td>0</td>\n",
       "      <td>SPICY VEGGIE BREAKFAST SAUSAGE</td>\n",
       "    </tr>\n",
       "    <tr>\n",
       "      <th>480184</th>\n",
       "      <td>1</td>\n",
       "      <td>0</td>\n",
       "      <td>GOURMET BREADED OYSTERS</td>\n",
       "    </tr>\n",
       "    <tr>\n",
       "      <th>733698</th>\n",
       "      <td>1</td>\n",
       "      <td>0</td>\n",
       "      <td>LIGHTLY SEASONED JACKFRUIT</td>\n",
       "    </tr>\n",
       "  </tbody>\n",
       "</table>\n",
       "<p>69 rows × 3 columns</p>\n",
       "</div>"
      ],
      "text/plain": [
       "        is_meat  prediction                                        description\n",
       "fdc_id                                                                        \n",
       "516858        1           0                                         THAI CURRY\n",
       "507762        1           0                           ORGANIC VEGETARIAN CHILI\n",
       "333411        1           0          Proximates, Pollock, raw (IN) - NFY060DN7\n",
       "805661        1           0                        CRAWFISH SHRIMP & CRAB BOIL\n",
       "389247        1           0                   VEGETARIAN CHILI 3 BEAN CHIPOTLE\n",
       "...         ...         ...                                                ...\n",
       "742802        1           0  ORIGINALS PANINO GENOA SALAMI WRAPPED MOZZAREL...\n",
       "593903        1           0       SCREAMIN' JALAPENO BEEF & CHEESE MEAT SNACKS\n",
       "534830        1           0                     SPICY VEGGIE BREAKFAST SAUSAGE\n",
       "480184        1           0                            GOURMET BREADED OYSTERS\n",
       "733698        1           0                         LIGHTLY SEASONED JACKFRUIT\n",
       "\n",
       "[69 rows x 3 columns]"
      ]
     },
     "execution_count": 14,
     "metadata": {},
     "output_type": "execute_result"
    }
   ],
   "source": [
    "food_merge = pd.read_csv(DNAME+\"food_merge.csv\").set_index(\"fdc_id\")\n",
    "pd.set_option('display.min_rows', 10)\n",
    "full_error=pd.concat([errors,food_merge.loc[errors.index][\"description\"]],axis=1)\n",
    "full_error[full_error[\"is_meat\"]==1]"
   ]
  },
  {
   "cell_type": "code",
   "execution_count": 15,
   "metadata": {},
   "outputs": [
    {
     "data": {
      "text/html": [
       "<div>\n",
       "<style scoped>\n",
       "    .dataframe tbody tr th:only-of-type {\n",
       "        vertical-align: middle;\n",
       "    }\n",
       "\n",
       "    .dataframe tbody tr th {\n",
       "        vertical-align: top;\n",
       "    }\n",
       "\n",
       "    .dataframe thead th {\n",
       "        text-align: right;\n",
       "    }\n",
       "</style>\n",
       "<table border=\"1\" class=\"dataframe\">\n",
       "  <thead>\n",
       "    <tr style=\"text-align: right;\">\n",
       "      <th></th>\n",
       "      <th>fdc_id</th>\n",
       "      <th>is_meat</th>\n",
       "      <th>prediction</th>\n",
       "      <th>description</th>\n",
       "    </tr>\n",
       "  </thead>\n",
       "  <tbody>\n",
       "    <tr>\n",
       "      <th>0</th>\n",
       "      <td>330239</td>\n",
       "      <td>0</td>\n",
       "      <td>1</td>\n",
       "      <td>Yogurt, Greek, strawberry, non-fat, DANNON OIK...</td>\n",
       "    </tr>\n",
       "    <tr>\n",
       "      <th>1</th>\n",
       "      <td>329933</td>\n",
       "      <td>0</td>\n",
       "      <td>1</td>\n",
       "      <td>Greek yogurt, FAGE PLAIN NONFAT (CO1,CT1) - CY...</td>\n",
       "    </tr>\n",
       "    <tr>\n",
       "      <th>2</th>\n",
       "      <td>322099</td>\n",
       "      <td>0</td>\n",
       "      <td>1</td>\n",
       "      <td>Milk, 1%</td>\n",
       "    </tr>\n",
       "    <tr>\n",
       "      <th>3</th>\n",
       "      <td>319905</td>\n",
       "      <td>0</td>\n",
       "      <td>1</td>\n",
       "      <td>HUMMUS, SABRA CLASSIC</td>\n",
       "    </tr>\n",
       "  </tbody>\n",
       "</table>\n",
       "</div>"
      ],
      "text/plain": [
       "   fdc_id  is_meat  prediction  \\\n",
       "0  330239        0           1   \n",
       "1  329933        0           1   \n",
       "2  322099        0           1   \n",
       "3  319905        0           1   \n",
       "\n",
       "                                         description  \n",
       "0  Yogurt, Greek, strawberry, non-fat, DANNON OIK...  \n",
       "1  Greek yogurt, FAGE PLAIN NONFAT (CO1,CT1) - CY...  \n",
       "2                                           Milk, 1%  \n",
       "3                              HUMMUS, SABRA CLASSIC  "
      ]
     },
     "execution_count": 15,
     "metadata": {},
     "output_type": "execute_result"
    }
   ],
   "source": [
    "pd.set_option('display.min_rows', 20)\n",
    "full_error[full_error[\"is_meat\"]==0].iloc[[0,2,4,7]].reset_index()"
   ]
  },
  {
   "cell_type": "code",
   "execution_count": 16,
   "metadata": {},
   "outputs": [],
   "source": [
    "# looks like the false positives are eggy foods and a couple other high protein things,\n",
    "# but the false negatives look like things that are actually negative and got mislabeled\n",
    "# when classifying the labels - like bollywood burger is a vegetarian burger, and vegan\n",
    "# bacon. There still are some real false negatives but its even less than the stats indicate"
   ]
  },
  {
   "cell_type": "code",
   "execution_count": 17,
   "metadata": {},
   "outputs": [
    {
     "data": {
      "text/html": [
       "<div>\n",
       "<style scoped>\n",
       "    .dataframe tbody tr th:only-of-type {\n",
       "        vertical-align: middle;\n",
       "    }\n",
       "\n",
       "    .dataframe tbody tr th {\n",
       "        vertical-align: top;\n",
       "    }\n",
       "\n",
       "    .dataframe thead th {\n",
       "        text-align: right;\n",
       "    }\n",
       "</style>\n",
       "<table border=\"1\" class=\"dataframe\">\n",
       "  <thead>\n",
       "    <tr style=\"text-align: right;\">\n",
       "      <th></th>\n",
       "      <th>fdc_id</th>\n",
       "      <th>is_meat</th>\n",
       "      <th>prediction</th>\n",
       "      <th>description</th>\n",
       "    </tr>\n",
       "  </thead>\n",
       "  <tbody>\n",
       "    <tr>\n",
       "      <th>0</th>\n",
       "      <td>516858</td>\n",
       "      <td>1</td>\n",
       "      <td>0</td>\n",
       "      <td>THAI CURRY</td>\n",
       "    </tr>\n",
       "    <tr>\n",
       "      <th>1</th>\n",
       "      <td>333411</td>\n",
       "      <td>1</td>\n",
       "      <td>0</td>\n",
       "      <td>Proximates, Pollock, raw (IN) - NFY060DN7</td>\n",
       "    </tr>\n",
       "    <tr>\n",
       "      <th>2</th>\n",
       "      <td>805661</td>\n",
       "      <td>1</td>\n",
       "      <td>0</td>\n",
       "      <td>CRAWFISH SHRIMP &amp; CRAB BOIL</td>\n",
       "    </tr>\n",
       "    <tr>\n",
       "      <th>3</th>\n",
       "      <td>389247</td>\n",
       "      <td>1</td>\n",
       "      <td>0</td>\n",
       "      <td>VEGETARIAN CHILI 3 BEAN CHIPOTLE</td>\n",
       "    </tr>\n",
       "  </tbody>\n",
       "</table>\n",
       "</div>"
      ],
      "text/plain": [
       "   fdc_id  is_meat  prediction                                description\n",
       "0  516858        1           0                                 THAI CURRY\n",
       "1  333411        1           0  Proximates, Pollock, raw (IN) - NFY060DN7\n",
       "2  805661        1           0                CRAWFISH SHRIMP & CRAB BOIL\n",
       "3  389247        1           0           VEGETARIAN CHILI 3 BEAN CHIPOTLE"
      ]
     },
     "execution_count": 17,
     "metadata": {},
     "output_type": "execute_result"
    }
   ],
   "source": [
    "full_error[full_error[\"is_meat\"]==1].iloc[[0,2,3,4]].reset_index()"
   ]
  },
  {
   "cell_type": "code",
   "execution_count": 18,
   "metadata": {},
   "outputs": [
    {
     "data": {
      "text/plain": [
       "Int64Index([167687, 167688, 167697, 167703, 167705, 167716, 167730, 167735,\n",
       "            168089, 168097,\n",
       "            ...\n",
       "            790499, 790500, 790501, 790502, 790503, 790504, 790505, 790506,\n",
       "            790507, 790508],\n",
       "           dtype='int64', name='fdc_id', length=6697)"
      ]
     },
     "execution_count": 18,
     "metadata": {},
     "output_type": "execute_result"
    }
   ],
   "source": [
    "egg_index= food_merge[food_merge[\"food_category_id\"]==1].index\n",
    "egg_index"
   ]
  },
  {
   "cell_type": "code",
   "execution_count": 20,
   "metadata": {},
   "outputs": [
    {
     "data": {
      "text/html": [
       "<div>\n",
       "<style scoped>\n",
       "    .dataframe tbody tr th:only-of-type {\n",
       "        vertical-align: middle;\n",
       "    }\n",
       "\n",
       "    .dataframe tbody tr th {\n",
       "        vertical-align: top;\n",
       "    }\n",
       "\n",
       "    .dataframe thead th {\n",
       "        text-align: right;\n",
       "    }\n",
       "</style>\n",
       "<table border=\"1\" class=\"dataframe\">\n",
       "  <thead>\n",
       "    <tr style=\"text-align: right;\">\n",
       "      <th></th>\n",
       "      <th>is_meat</th>\n",
       "      <th>prediction</th>\n",
       "    </tr>\n",
       "    <tr>\n",
       "      <th>fdc_id</th>\n",
       "      <th></th>\n",
       "      <th></th>\n",
       "    </tr>\n",
       "  </thead>\n",
       "  <tbody>\n",
       "    <tr>\n",
       "      <th>696672</th>\n",
       "      <td>0</td>\n",
       "      <td>0</td>\n",
       "    </tr>\n",
       "    <tr>\n",
       "      <th>682742</th>\n",
       "      <td>0</td>\n",
       "      <td>0</td>\n",
       "    </tr>\n",
       "    <tr>\n",
       "      <th>492040</th>\n",
       "      <td>0</td>\n",
       "      <td>0</td>\n",
       "    </tr>\n",
       "    <tr>\n",
       "      <th>570543</th>\n",
       "      <td>1</td>\n",
       "      <td>1</td>\n",
       "    </tr>\n",
       "    <tr>\n",
       "      <th>438661</th>\n",
       "      <td>0</td>\n",
       "      <td>0</td>\n",
       "    </tr>\n",
       "    <tr>\n",
       "      <th>561061</th>\n",
       "      <td>0</td>\n",
       "      <td>0</td>\n",
       "    </tr>\n",
       "    <tr>\n",
       "      <th>558552</th>\n",
       "      <td>0</td>\n",
       "      <td>0</td>\n",
       "    </tr>\n",
       "    <tr>\n",
       "      <th>616886</th>\n",
       "      <td>0</td>\n",
       "      <td>0</td>\n",
       "    </tr>\n",
       "    <tr>\n",
       "      <th>670114</th>\n",
       "      <td>0</td>\n",
       "      <td>0</td>\n",
       "    </tr>\n",
       "    <tr>\n",
       "      <th>735828</th>\n",
       "      <td>0</td>\n",
       "      <td>0</td>\n",
       "    </tr>\n",
       "    <tr>\n",
       "      <th>...</th>\n",
       "      <td>...</td>\n",
       "      <td>...</td>\n",
       "    </tr>\n",
       "    <tr>\n",
       "      <th>506248</th>\n",
       "      <td>1</td>\n",
       "      <td>1</td>\n",
       "    </tr>\n",
       "    <tr>\n",
       "      <th>408310</th>\n",
       "      <td>0</td>\n",
       "      <td>0</td>\n",
       "    </tr>\n",
       "    <tr>\n",
       "      <th>735892</th>\n",
       "      <td>0</td>\n",
       "      <td>0</td>\n",
       "    </tr>\n",
       "    <tr>\n",
       "      <th>554950</th>\n",
       "      <td>0</td>\n",
       "      <td>0</td>\n",
       "    </tr>\n",
       "    <tr>\n",
       "      <th>667880</th>\n",
       "      <td>0</td>\n",
       "      <td>0</td>\n",
       "    </tr>\n",
       "    <tr>\n",
       "      <th>685000</th>\n",
       "      <td>0</td>\n",
       "      <td>0</td>\n",
       "    </tr>\n",
       "    <tr>\n",
       "      <th>632360</th>\n",
       "      <td>0</td>\n",
       "      <td>0</td>\n",
       "    </tr>\n",
       "    <tr>\n",
       "      <th>573185</th>\n",
       "      <td>0</td>\n",
       "      <td>0</td>\n",
       "    </tr>\n",
       "    <tr>\n",
       "      <th>445584</th>\n",
       "      <td>0</td>\n",
       "      <td>0</td>\n",
       "    </tr>\n",
       "    <tr>\n",
       "      <th>322634</th>\n",
       "      <td>0</td>\n",
       "      <td>1</td>\n",
       "    </tr>\n",
       "  </tbody>\n",
       "</table>\n",
       "<p>34308 rows × 2 columns</p>\n",
       "</div>"
      ],
      "text/plain": [
       "        is_meat  prediction\n",
       "fdc_id                     \n",
       "696672        0           0\n",
       "682742        0           0\n",
       "492040        0           0\n",
       "570543        1           1\n",
       "438661        0           0\n",
       "561061        0           0\n",
       "558552        0           0\n",
       "616886        0           0\n",
       "670114        0           0\n",
       "735828        0           0\n",
       "...         ...         ...\n",
       "506248        1           1\n",
       "408310        0           0\n",
       "735892        0           0\n",
       "554950        0           0\n",
       "667880        0           0\n",
       "685000        0           0\n",
       "632360        0           0\n",
       "573185        0           0\n",
       "445584        0           0\n",
       "322634        0           1\n",
       "\n",
       "[34308 rows x 2 columns]"
      ]
     },
     "execution_count": 20,
     "metadata": {},
     "output_type": "execute_result"
    }
   ],
   "source": [
    "y_test"
   ]
  },
  {
   "cell_type": "code",
   "execution_count": 21,
   "metadata": {},
   "outputs": [
    {
     "data": {
      "text/plain": [
       "0.3448275862068966"
      ]
     },
     "metadata": {},
     "output_type": "display_data"
    },
    {
     "name": "stderr",
     "output_type": "stream",
     "text": [
      "/opt/anaconda3/lib/python3.7/site-packages/sklearn/metrics/_classification.py:1221: UndefinedMetricWarning: Recall is ill-defined and being set to 0.0 due to no true samples. Use `zero_division` parameter to control this behavior.\n",
      "  _warn_prf(average, modifier, msg_start, len(result))\n"
     ]
    },
    {
     "data": {
      "text/plain": [
       "0.0"
      ]
     },
     "metadata": {},
     "output_type": "display_data"
    }
   ],
   "source": [
    "# egg and dairy code is 1 so we can get the index of egg and dairys using that\n",
    "egg_index = food_merge[food_merge[\"food_category_id\"]==1].index\n",
    "egg_test = [i for i in egg_index if i in x_test.index]\n",
    "gs_pred_egg = gs.predict(x_test.loc[egg_test])\n",
    "display(metrics.accuracy_score(y_test.loc[egg_test][\"is_meat\"], gs_pred_egg))\n",
    "display(metrics.recall_score(y_test.loc[egg_test][\"is_meat\"], gs_pred_egg))"
   ]
  },
  {
   "cell_type": "code",
   "execution_count": 22,
   "metadata": {},
   "outputs": [],
   "source": [
    "# all the errors are false positives for dairy products... oh obviously \n",
    "# at least theres still pretty high accuracy for dairy"
   ]
  },
  {
   "cell_type": "code",
   "execution_count": 23,
   "metadata": {},
   "outputs": [
    {
     "data": {
      "text/plain": [
       "'test_egg=y_test.loc[egg_test].astype(int)\\ndisplay(a.shape)\\negg_prediction=pd.DataFrame(gs_pred_egg)\\negg_prediction.index=test_egg.index\\npd.concat([a, b],axis=1)'"
      ]
     },
     "execution_count": 23,
     "metadata": {},
     "output_type": "execute_result"
    }
   ],
   "source": [
    "\"\"\"test_egg=y_test.loc[egg_test].astype(int)\n",
    "display(a.shape)\n",
    "egg_prediction=pd.DataFrame(gs_pred_egg)\n",
    "egg_prediction.index=test_egg.index\n",
    "pd.concat([a, b],axis=1)\"\"\""
   ]
  },
  {
   "cell_type": "code",
   "execution_count": 24,
   "metadata": {},
   "outputs": [],
   "source": [
    "# false negatives\n",
    "false_negatives_i = full_error[full_error[\"is_meat\"]==1].index\n",
    "false_positives_i = full_error[full_error[\"is_meat\"]==0].index"
   ]
  },
  {
   "cell_type": "code",
   "execution_count": 25,
   "metadata": {},
   "outputs": [
    {
     "data": {
      "text/html": [
       "<div>\n",
       "<style scoped>\n",
       "    .dataframe tbody tr th:only-of-type {\n",
       "        vertical-align: middle;\n",
       "    }\n",
       "\n",
       "    .dataframe tbody tr th {\n",
       "        vertical-align: top;\n",
       "    }\n",
       "\n",
       "    .dataframe thead th {\n",
       "        text-align: right;\n",
       "    }\n",
       "</style>\n",
       "<table border=\"1\" class=\"dataframe\">\n",
       "  <thead>\n",
       "    <tr style=\"text-align: right;\">\n",
       "      <th></th>\n",
       "      <th>data_type</th>\n",
       "      <th>description</th>\n",
       "      <th>food_category_id</th>\n",
       "      <th>publication_date</th>\n",
       "      <th>branded_food_category</th>\n",
       "    </tr>\n",
       "    <tr>\n",
       "      <th>fdc_id</th>\n",
       "      <th></th>\n",
       "      <th></th>\n",
       "      <th></th>\n",
       "      <th></th>\n",
       "      <th></th>\n",
       "    </tr>\n",
       "  </thead>\n",
       "  <tbody>\n",
       "    <tr>\n",
       "      <th>516858</th>\n",
       "      <td>branded_food</td>\n",
       "      <td>THAI CURRY</td>\n",
       "      <td>NaN</td>\n",
       "      <td>2019-04-01</td>\n",
       "      <td>Other Meats</td>\n",
       "    </tr>\n",
       "    <tr>\n",
       "      <th>507762</th>\n",
       "      <td>branded_food</td>\n",
       "      <td>ORGANIC VEGETARIAN CHILI</td>\n",
       "      <td>NaN</td>\n",
       "      <td>2019-04-01</td>\n",
       "      <td>Chili &amp; Stew</td>\n",
       "    </tr>\n",
       "    <tr>\n",
       "      <th>333411</th>\n",
       "      <td>sub_sample_food</td>\n",
       "      <td>Proximates, Pollock, raw (IN) - NFY060DN7</td>\n",
       "      <td>15.0</td>\n",
       "      <td>2019-04-01</td>\n",
       "      <td>NaN</td>\n",
       "    </tr>\n",
       "    <tr>\n",
       "      <th>805661</th>\n",
       "      <td>branded_food</td>\n",
       "      <td>CRAWFISH SHRIMP &amp; CRAB BOIL</td>\n",
       "      <td>NaN</td>\n",
       "      <td>2020-04-01</td>\n",
       "      <td>Fish &amp; Seafood</td>\n",
       "    </tr>\n",
       "    <tr>\n",
       "      <th>389247</th>\n",
       "      <td>branded_food</td>\n",
       "      <td>VEGETARIAN CHILI 3 BEAN CHIPOTLE</td>\n",
       "      <td>NaN</td>\n",
       "      <td>2019-04-01</td>\n",
       "      <td>Chili &amp; Stew</td>\n",
       "    </tr>\n",
       "    <tr>\n",
       "      <th>535048</th>\n",
       "      <td>branded_food</td>\n",
       "      <td>OVEN CRISPY JUMBO COCONUT SHRIMP</td>\n",
       "      <td>NaN</td>\n",
       "      <td>2019-04-01</td>\n",
       "      <td>Frozen Fish &amp; Seafood</td>\n",
       "    </tr>\n",
       "    <tr>\n",
       "      <th>518511</th>\n",
       "      <td>branded_food</td>\n",
       "      <td>STUFFED CABBAGE</td>\n",
       "      <td>NaN</td>\n",
       "      <td>2019-04-01</td>\n",
       "      <td>Chili &amp; Stew</td>\n",
       "    </tr>\n",
       "    <tr>\n",
       "      <th>...</th>\n",
       "      <td>...</td>\n",
       "      <td>...</td>\n",
       "      <td>...</td>\n",
       "      <td>...</td>\n",
       "      <td>...</td>\n",
       "    </tr>\n",
       "    <tr>\n",
       "      <th>446413</th>\n",
       "      <td>branded_food</td>\n",
       "      <td>PROMISE, LOW FAT WHITE LOAF</td>\n",
       "      <td>NaN</td>\n",
       "      <td>2019-04-01</td>\n",
       "      <td>Other Meats</td>\n",
       "    </tr>\n",
       "    <tr>\n",
       "      <th>534663</th>\n",
       "      <td>branded_food</td>\n",
       "      <td>SMOKY BOURBON</td>\n",
       "      <td>NaN</td>\n",
       "      <td>2019-04-01</td>\n",
       "      <td>Pepperoni, Salami &amp; Cold Cuts</td>\n",
       "    </tr>\n",
       "    <tr>\n",
       "      <th>742802</th>\n",
       "      <td>branded_food</td>\n",
       "      <td>ORIGINALS PANINO GENOA SALAMI WRAPPED MOZZAREL...</td>\n",
       "      <td>NaN</td>\n",
       "      <td>2019-12-06</td>\n",
       "      <td>Pepperoni, Salami &amp; Cold Cuts</td>\n",
       "    </tr>\n",
       "    <tr>\n",
       "      <th>593903</th>\n",
       "      <td>branded_food</td>\n",
       "      <td>SCREAMIN' JALAPENO BEEF &amp; CHEESE MEAT SNACKS</td>\n",
       "      <td>NaN</td>\n",
       "      <td>2019-04-01</td>\n",
       "      <td>Pepperoni, Salami &amp; Cold Cuts</td>\n",
       "    </tr>\n",
       "    <tr>\n",
       "      <th>534830</th>\n",
       "      <td>branded_food</td>\n",
       "      <td>SPICY VEGGIE BREAKFAST SAUSAGE</td>\n",
       "      <td>NaN</td>\n",
       "      <td>2019-04-01</td>\n",
       "      <td>Other Meats</td>\n",
       "    </tr>\n",
       "    <tr>\n",
       "      <th>480184</th>\n",
       "      <td>branded_food</td>\n",
       "      <td>GOURMET BREADED OYSTERS</td>\n",
       "      <td>NaN</td>\n",
       "      <td>2019-04-01</td>\n",
       "      <td>Frozen Fish &amp; Seafood</td>\n",
       "    </tr>\n",
       "    <tr>\n",
       "      <th>733698</th>\n",
       "      <td>branded_food</td>\n",
       "      <td>LIGHTLY SEASONED JACKFRUIT</td>\n",
       "      <td>NaN</td>\n",
       "      <td>2019-12-06</td>\n",
       "      <td>Other Meats</td>\n",
       "    </tr>\n",
       "  </tbody>\n",
       "</table>\n",
       "<p>69 rows × 5 columns</p>\n",
       "</div>"
      ],
      "text/plain": [
       "              data_type                                        description  \\\n",
       "fdc_id                                                                       \n",
       "516858     branded_food                                         THAI CURRY   \n",
       "507762     branded_food                           ORGANIC VEGETARIAN CHILI   \n",
       "333411  sub_sample_food          Proximates, Pollock, raw (IN) - NFY060DN7   \n",
       "805661     branded_food                        CRAWFISH SHRIMP & CRAB BOIL   \n",
       "389247     branded_food                   VEGETARIAN CHILI 3 BEAN CHIPOTLE   \n",
       "535048     branded_food                   OVEN CRISPY JUMBO COCONUT SHRIMP   \n",
       "518511     branded_food                                    STUFFED CABBAGE   \n",
       "...                 ...                                                ...   \n",
       "446413     branded_food                        PROMISE, LOW FAT WHITE LOAF   \n",
       "534663     branded_food                                      SMOKY BOURBON   \n",
       "742802     branded_food  ORIGINALS PANINO GENOA SALAMI WRAPPED MOZZAREL...   \n",
       "593903     branded_food       SCREAMIN' JALAPENO BEEF & CHEESE MEAT SNACKS   \n",
       "534830     branded_food                     SPICY VEGGIE BREAKFAST SAUSAGE   \n",
       "480184     branded_food                            GOURMET BREADED OYSTERS   \n",
       "733698     branded_food                         LIGHTLY SEASONED JACKFRUIT   \n",
       "\n",
       "        food_category_id publication_date          branded_food_category  \n",
       "fdc_id                                                                    \n",
       "516858               NaN       2019-04-01                    Other Meats  \n",
       "507762               NaN       2019-04-01                   Chili & Stew  \n",
       "333411              15.0       2019-04-01                            NaN  \n",
       "805661               NaN       2020-04-01                 Fish & Seafood  \n",
       "389247               NaN       2019-04-01                   Chili & Stew  \n",
       "535048               NaN       2019-04-01          Frozen Fish & Seafood  \n",
       "518511               NaN       2019-04-01                   Chili & Stew  \n",
       "...                  ...              ...                            ...  \n",
       "446413               NaN       2019-04-01                    Other Meats  \n",
       "534663               NaN       2019-04-01  Pepperoni, Salami & Cold Cuts  \n",
       "742802               NaN       2019-12-06  Pepperoni, Salami & Cold Cuts  \n",
       "593903               NaN       2019-04-01  Pepperoni, Salami & Cold Cuts  \n",
       "534830               NaN       2019-04-01                    Other Meats  \n",
       "480184               NaN       2019-04-01          Frozen Fish & Seafood  \n",
       "733698               NaN       2019-12-06                    Other Meats  \n",
       "\n",
       "[69 rows x 5 columns]"
      ]
     },
     "execution_count": 25,
     "metadata": {},
     "output_type": "execute_result"
    }
   ],
   "source": [
    "false_negatives = food_merge.loc[false_negatives_i]\n",
    "false_positives = food_merge.loc[false_positives_i]\n",
    "pd.set_option('display.min_rows', 15)\n",
    "pd.set_option('display.max_rows', 20)\n",
    "false_negatives"
   ]
  },
  {
   "cell_type": "code",
   "execution_count": 26,
   "metadata": {},
   "outputs": [
    {
     "data": {
      "text/plain": [
       "branded_food_category\n",
       "Bacon, Sausages & Ribs                  214\n",
       "Breads & Buns                          1738\n",
       "Cakes, Cupcakes, Snack Cakes           1237\n",
       "Canned Fruit                            563\n",
       "Canned Tuna                             185\n",
       "Canned Vegetables                       775\n",
       "Cereal                                 1398\n",
       "                                       ... \n",
       "Pickles, Olives, Peppers & Relishes    1708\n",
       "Powdered Drinks                         609\n",
       "Pre-Packaged Fruit & Vegetables         808\n",
       "Sausages, Hotdogs & Brats               646\n",
       "Soda                                   1242\n",
       "Water                                   955\n",
       "Yogurt                                 1195\n",
       "Name: data_type, Length: 31, dtype: int64"
      ]
     },
     "execution_count": 26,
     "metadata": {},
     "output_type": "execute_result"
    }
   ],
   "source": [
    "total_label_cnt = food_merge.loc[x_test.index].groupby(\"branded_food_category\").count()[\"data_type\"] \n",
    "total_label_cnt"
   ]
  },
  {
   "cell_type": "code",
   "execution_count": 27,
   "metadata": {},
   "outputs": [],
   "source": [
    "false_neg_grp = false_negatives.groupby(\"branded_food_category\").count()\n",
    "falsen_percent = false_neg_grp.merge(total_label_cnt,left_index=True,right_index=True,how=\"left\")\n",
    "falsen_percent[\"per_fneg\"] = falsen_percent[\"data_type_x\"]/falsen_percent[\"data_type_y\"]\n",
    "falsen_percent = falsen_percent[[\"per_fneg\",\"data_type_x\",\"data_type_x\"]]\n",
    "falsen_percent.columns = [\"per_fneg\", \"fneg_cnt\", \"total_cnt\"]"
   ]
  },
  {
   "cell_type": "code",
   "execution_count": 28,
   "metadata": {},
   "outputs": [],
   "source": [
    "false_pos_grp = false_positives.groupby(\"branded_food_category\").count()\n",
    "falsep_percent = false_pos_grp.merge(total_label_cnt,left_index=True,right_index=True,how=\"left\")\n",
    "falsep_percent[\"per_fpos\"] = falsep_percent[\"data_type_x\"]/falsep_percent[\"data_type_y\"]\n",
    "falsep_percent = falsep_percent[[\"per_fpos\",\"data_type_x\",\"data_type_y\"]]\n",
    "falsep_percent.columns = [\"per_fpos\", \"fpos_cnt\", \"total_cnt\"]"
   ]
  },
  {
   "cell_type": "code",
   "execution_count": 29,
   "metadata": {},
   "outputs": [
    {
     "data": {
      "text/html": [
       "<div>\n",
       "<style scoped>\n",
       "    .dataframe tbody tr th:only-of-type {\n",
       "        vertical-align: middle;\n",
       "    }\n",
       "\n",
       "    .dataframe tbody tr th {\n",
       "        vertical-align: top;\n",
       "    }\n",
       "\n",
       "    .dataframe thead th {\n",
       "        text-align: right;\n",
       "    }\n",
       "</style>\n",
       "<table border=\"1\" class=\"dataframe\">\n",
       "  <thead>\n",
       "    <tr style=\"text-align: right;\">\n",
       "      <th></th>\n",
       "      <th>per_fneg</th>\n",
       "      <th>fneg_cnt</th>\n",
       "      <th>total_cnt</th>\n",
       "    </tr>\n",
       "    <tr>\n",
       "      <th>branded_food_category</th>\n",
       "      <th></th>\n",
       "      <th></th>\n",
       "      <th></th>\n",
       "    </tr>\n",
       "  </thead>\n",
       "  <tbody>\n",
       "    <tr>\n",
       "      <th>Chili &amp; Stew</th>\n",
       "      <td>0.121359</td>\n",
       "      <td>25</td>\n",
       "      <td>25</td>\n",
       "    </tr>\n",
       "    <tr>\n",
       "      <th>Fish &amp; Seafood</th>\n",
       "      <td>0.026316</td>\n",
       "      <td>5</td>\n",
       "      <td>5</td>\n",
       "    </tr>\n",
       "    <tr>\n",
       "      <th>Frozen Fish &amp; Seafood</th>\n",
       "      <td>0.009398</td>\n",
       "      <td>5</td>\n",
       "      <td>5</td>\n",
       "    </tr>\n",
       "    <tr>\n",
       "      <th>Other Meats</th>\n",
       "      <td>0.052117</td>\n",
       "      <td>16</td>\n",
       "      <td>16</td>\n",
       "    </tr>\n",
       "    <tr>\n",
       "      <th>Pepperoni, Salami &amp; Cold Cuts</th>\n",
       "      <td>0.011976</td>\n",
       "      <td>10</td>\n",
       "      <td>10</td>\n",
       "    </tr>\n",
       "    <tr>\n",
       "      <th>Sausages, Hotdogs &amp; Brats</th>\n",
       "      <td>0.001548</td>\n",
       "      <td>1</td>\n",
       "      <td>1</td>\n",
       "    </tr>\n",
       "  </tbody>\n",
       "</table>\n",
       "</div>"
      ],
      "text/plain": [
       "                               per_fneg  fneg_cnt  total_cnt\n",
       "branded_food_category                                       \n",
       "Chili & Stew                   0.121359        25         25\n",
       "Fish & Seafood                 0.026316         5          5\n",
       "Frozen Fish & Seafood          0.009398         5          5\n",
       "Other Meats                    0.052117        16         16\n",
       "Pepperoni, Salami & Cold Cuts  0.011976        10         10\n",
       "Sausages, Hotdogs & Brats      0.001548         1          1"
      ]
     },
     "execution_count": 29,
     "metadata": {},
     "output_type": "execute_result"
    }
   ],
   "source": [
    "falsen_percent"
   ]
  },
  {
   "cell_type": "code",
   "execution_count": 30,
   "metadata": {},
   "outputs": [
    {
     "data": {
      "text/html": [
       "<div>\n",
       "<style scoped>\n",
       "    .dataframe tbody tr th:only-of-type {\n",
       "        vertical-align: middle;\n",
       "    }\n",
       "\n",
       "    .dataframe tbody tr th {\n",
       "        vertical-align: top;\n",
       "    }\n",
       "\n",
       "    .dataframe thead th {\n",
       "        text-align: right;\n",
       "    }\n",
       "</style>\n",
       "<table border=\"1\" class=\"dataframe\">\n",
       "  <thead>\n",
       "    <tr style=\"text-align: right;\">\n",
       "      <th></th>\n",
       "      <th>per_fpos</th>\n",
       "      <th>fpos_cnt</th>\n",
       "      <th>total_cnt</th>\n",
       "    </tr>\n",
       "    <tr>\n",
       "      <th>branded_food_category</th>\n",
       "      <th></th>\n",
       "      <th></th>\n",
       "      <th></th>\n",
       "    </tr>\n",
       "  </thead>\n",
       "  <tbody>\n",
       "    <tr>\n",
       "      <th>Breads &amp; Buns</th>\n",
       "      <td>0.002301</td>\n",
       "      <td>4</td>\n",
       "      <td>1738</td>\n",
       "    </tr>\n",
       "    <tr>\n",
       "      <th>Cakes, Cupcakes, Snack Cakes</th>\n",
       "      <td>0.000808</td>\n",
       "      <td>1</td>\n",
       "      <td>1237</td>\n",
       "    </tr>\n",
       "    <tr>\n",
       "      <th>Canned Fruit</th>\n",
       "      <td>0.001776</td>\n",
       "      <td>1</td>\n",
       "      <td>563</td>\n",
       "    </tr>\n",
       "    <tr>\n",
       "      <th>Canned Vegetables</th>\n",
       "      <td>0.006452</td>\n",
       "      <td>5</td>\n",
       "      <td>775</td>\n",
       "    </tr>\n",
       "    <tr>\n",
       "      <th>Cereal</th>\n",
       "      <td>0.001431</td>\n",
       "      <td>2</td>\n",
       "      <td>1398</td>\n",
       "    </tr>\n",
       "    <tr>\n",
       "      <th>Cheese</th>\n",
       "      <td>0.017094</td>\n",
       "      <td>48</td>\n",
       "      <td>2808</td>\n",
       "    </tr>\n",
       "    <tr>\n",
       "      <th>Cookies &amp; Biscuits</th>\n",
       "      <td>0.000507</td>\n",
       "      <td>1</td>\n",
       "      <td>1972</td>\n",
       "    </tr>\n",
       "    <tr>\n",
       "      <th>Energy, Protein &amp; Muscle Recovery Drinks</th>\n",
       "      <td>0.003390</td>\n",
       "      <td>1</td>\n",
       "      <td>295</td>\n",
       "    </tr>\n",
       "    <tr>\n",
       "      <th>French Fries, Potatoes &amp; Onion Rings</th>\n",
       "      <td>0.014599</td>\n",
       "      <td>2</td>\n",
       "      <td>137</td>\n",
       "    </tr>\n",
       "    <tr>\n",
       "      <th>Frozen Vegetables</th>\n",
       "      <td>0.015827</td>\n",
       "      <td>11</td>\n",
       "      <td>695</td>\n",
       "    </tr>\n",
       "    <tr>\n",
       "      <th>Fruit &amp; Vegetable Juice, Nectars &amp; Fruit Drinks</th>\n",
       "      <td>0.012003</td>\n",
       "      <td>19</td>\n",
       "      <td>1583</td>\n",
       "    </tr>\n",
       "    <tr>\n",
       "      <th>Ketchup, Mustard, BBQ &amp; Cheese Sauce</th>\n",
       "      <td>0.016407</td>\n",
       "      <td>20</td>\n",
       "      <td>1219</td>\n",
       "    </tr>\n",
       "    <tr>\n",
       "      <th>Pasta by Shape &amp; Type</th>\n",
       "      <td>0.025431</td>\n",
       "      <td>28</td>\n",
       "      <td>1101</td>\n",
       "    </tr>\n",
       "    <tr>\n",
       "      <th>Pickles, Olives, Peppers &amp; Relishes</th>\n",
       "      <td>0.029859</td>\n",
       "      <td>51</td>\n",
       "      <td>1708</td>\n",
       "    </tr>\n",
       "    <tr>\n",
       "      <th>Powdered Drinks</th>\n",
       "      <td>0.008210</td>\n",
       "      <td>5</td>\n",
       "      <td>609</td>\n",
       "    </tr>\n",
       "    <tr>\n",
       "      <th>Pre-Packaged Fruit &amp; Vegetables</th>\n",
       "      <td>0.012376</td>\n",
       "      <td>10</td>\n",
       "      <td>808</td>\n",
       "    </tr>\n",
       "    <tr>\n",
       "      <th>Soda</th>\n",
       "      <td>0.039452</td>\n",
       "      <td>49</td>\n",
       "      <td>1242</td>\n",
       "    </tr>\n",
       "    <tr>\n",
       "      <th>Water</th>\n",
       "      <td>0.540314</td>\n",
       "      <td>516</td>\n",
       "      <td>955</td>\n",
       "    </tr>\n",
       "    <tr>\n",
       "      <th>Yogurt</th>\n",
       "      <td>0.000837</td>\n",
       "      <td>1</td>\n",
       "      <td>1195</td>\n",
       "    </tr>\n",
       "  </tbody>\n",
       "</table>\n",
       "</div>"
      ],
      "text/plain": [
       "                                                 per_fpos  fpos_cnt  total_cnt\n",
       "branded_food_category                                                         \n",
       "Breads & Buns                                    0.002301         4       1738\n",
       "Cakes, Cupcakes, Snack Cakes                     0.000808         1       1237\n",
       "Canned Fruit                                     0.001776         1        563\n",
       "Canned Vegetables                                0.006452         5        775\n",
       "Cereal                                           0.001431         2       1398\n",
       "Cheese                                           0.017094        48       2808\n",
       "Cookies & Biscuits                               0.000507         1       1972\n",
       "Energy, Protein & Muscle Recovery Drinks         0.003390         1        295\n",
       "French Fries, Potatoes & Onion Rings             0.014599         2        137\n",
       "Frozen Vegetables                                0.015827        11        695\n",
       "Fruit & Vegetable Juice, Nectars & Fruit Drinks  0.012003        19       1583\n",
       "Ketchup, Mustard, BBQ & Cheese Sauce             0.016407        20       1219\n",
       "Pasta by Shape & Type                            0.025431        28       1101\n",
       "Pickles, Olives, Peppers & Relishes              0.029859        51       1708\n",
       "Powdered Drinks                                  0.008210         5        609\n",
       "Pre-Packaged Fruit & Vegetables                  0.012376        10        808\n",
       "Soda                                             0.039452        49       1242\n",
       "Water                                            0.540314       516        955\n",
       "Yogurt                                           0.000837         1       1195"
      ]
     },
     "execution_count": 30,
     "metadata": {},
     "output_type": "execute_result"
    }
   ],
   "source": [
    "falsep_percent"
   ]
  },
  {
   "cell_type": "code",
   "execution_count": 31,
   "metadata": {},
   "outputs": [
    {
     "data": {
      "image/png": "[encoded data removed]",
      "text/plain": [
       "<Figure size 432x288 with 1 Axes>"
      ]
     },
     "metadata": {
      "needs_background": "light"
     },
     "output_type": "display_data"
    }
   ],
   "source": [
    "# ok they're all branded foods so this is easier\n",
    "plt.barh(false_neg_grp.index,falsen_percent[\"per_fneg\"])\n",
    "plt.title(\"Percent of each category that is false negative\")\n",
    "plt.xlabel(\"Percent false negative\")\n",
    "# this is cutting left edge so guess we're screenshotting :)\n",
    "plt.savefig(\"figs/\"+\"fneg_percent\")"
   ]
  },
  {
   "cell_type": "code",
   "execution_count": 32,
   "metadata": {},
   "outputs": [
    {
     "data": {
      "image/png": "[encoded data removed]",
      "text/plain": [
       "<Figure size 432x288 with 1 Axes>"
      ]
     },
     "metadata": {
      "needs_background": "light"
     },
     "output_type": "display_data"
    }
   ],
   "source": [
    "# ok they're all branded foods so this is easier\n",
    "plt.barh(false_pos_grp.index,falsep_percent[\"per_fpos\"])\n",
    "plt.title(\"Percent of each category that is false positive\")\n",
    "plt.xlabel(\"Percent false positive\")\n",
    "plt.savefig(\"figs/\"+\"fpos_percent\")"
   ]
  },
  {
   "cell_type": "code",
   "execution_count": 33,
   "metadata": {},
   "outputs": [],
   "source": [
    "# welp we're getting massive errors with water now for some reason, so once that gets fixed\n",
    "# the model should do pretty well"
   ]
  },
  {
   "cell_type": "code",
   "execution_count": null,
   "metadata": {},
   "outputs": [],
   "source": []
  }
 ],
 "metadata": {
  "kernelspec": {
   "display_name": "Python 3",
   "language": "python",
   "name": "python3"
  },
  "language_info": {
   "codemirror_mode": {
    "name": "ipython",
    "version": 3
   },
   "file_extension": ".py",
   "mimetype": "text/x-python",
   "name": "python",
   "nbconvert_exporter": "python",
   "pygments_lexer": "ipython3",
   "version": "3.7.6"
  }
 },
 "nbformat": 4,
 "nbformat_minor": 4
}
